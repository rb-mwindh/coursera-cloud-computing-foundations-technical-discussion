{
  "nbformat": 4,
  "nbformat_minor": 0,
  "metadata": {
    "colab": {
      "provenance": []
    },
    "kernelspec": {
      "name": "python3",
      "display_name": "Python 3"
    },
    "language_info": {
      "name": "python"
    }
  },
  "cells": [
    {
      "cell_type": "markdown",
      "source": [
        "# Exercise 1: Create Markdown in Jupyter\n",
        "\n",
        "Performed the following tasks:\n",
        "\n",
        "* [x] Logged in to [Google Colab](https://colab.research.google.com/)\n",
        "* [x] Created a new notebook\n",
        "* [x] Created a code cell and printed a Python Hello World statement: `print(\"hello world\")`\n",
        "* [x] Created a Markdown Cell and added a Title using `#` and then some text\n",
        "* [x] Implemented some ideas from the [Master Markdown GitHub Guide](https://guides.github.com/features/mastering-markdown/)\n",
        "* [ ] Downloaded this notebook as a `.ipynb` file and checked into a GitHub Project: [Link]()\n",
        "* [ ] Opened my notebook in Google Colab and saved it into the same GitHub Project: [Link]()\n",
        "\n",
        "\n",
        "## Implemented ideas from \"Master Markdown GitHub Guide\"\n",
        "\n",
        "- one\n",
        "- two\n",
        "  - two dot one\n",
        "  - two dot two\n",
        "- three\n",
        "  - three dot one\n",
        "    - three dot one dot one\n",
        "\n",
        "```\n",
        "// this is a code section\n",
        "print(\"hello world\")\n",
        "```\n",
        "\n",
        "![success](https://img.shields.io/badge/test-success-brightgreen)\n",
        "\n"
      ],
      "metadata": {
        "id": "9Bw4wbStCm0R"
      }
    },
    {
      "cell_type": "code",
      "source": [
        "print(\"hello world\")"
      ],
      "metadata": {
        "colab": {
          "base_uri": "https://localhost:8080/"
        },
        "id": "lQll646PCgbB",
        "outputId": "2fb6c277-0227-4869-8f7f-579da4e8c7e5"
      },
      "execution_count": null,
      "outputs": [
        {
          "output_type": "stream",
          "name": "stdout",
          "text": [
            "hello world\n"
          ]
        }
      ]
    }
  ]
}